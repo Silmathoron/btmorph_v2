{
 "cells": [
  {
   "cell_type": "markdown",
   "metadata": {},
   "source": [
    "## Setting up"
   ]
  },
  {
   "cell_type": "code",
   "execution_count": null,
   "metadata": {
    "collapsed": true
   },
   "outputs": [],
   "source": [
    "# new jupyter stuff to enable inline plotting for matplotlib\n",
    "%matplotlib inline\n",
    "\n",
    "import matplotlib.pyplot as plt\n",
    "import numpy as np\n",
    "\n",
    "import sys\n",
    "sys.path.append(\"..\")\n",
    "import btmorph2\n",
    "\n",
    "# the \"cd\" command below is used by the Python interpreter to set the working directory \n",
    "# at the top of the git repository"
   ]
  },
  {
   "cell_type": "code",
   "execution_count": null,
   "metadata": {
    "collapsed": false
   },
   "outputs": [],
   "source": [
    "cd .."
   ]
  },
  {
   "cell_type": "code",
   "execution_count": null,
   "metadata": {
    "collapsed": false
   },
   "outputs": [],
   "source": [
    "btmorph2.__file__"
   ]
  },
  {
   "cell_type": "markdown",
   "metadata": {},
   "source": [
    "## Loading, saving and converting SWC and NMF format\n"
   ]
  },
  {
   "cell_type": "code",
   "execution_count": null,
   "metadata": {
    "collapsed": false
   },
   "outputs": [],
   "source": [
    "# load SWC into btmorph2\n",
    "neuron = btmorph2.NeuronMorphology(\"tests/v_e_moto1.CNG.swc\")\n",
    "neuron.plot_2D()\n",
    "neuron.total_length()"
   ]
  },
  {
   "cell_type": "code",
   "execution_count": null,
   "metadata": {
    "collapsed": false
   },
   "outputs": [],
   "source": [
    "# convert SWC to NMF format using btmorph\n",
    "%run btmorph2/tools/swc_to_hdf5.py tests/v_e_moto1.CNG.swc"
   ]
  },
  {
   "cell_type": "code",
   "execution_count": null,
   "metadata": {
    "collapsed": false
   },
   "outputs": [],
   "source": [
    "# load NMF into btmorph2\n",
    "neuron_ntf = btmorph2.NeuronMorphology(\"tests/v_e_moto1.CNG.swc.nmf\")\n",
    "neuron_ntf.plot_2D()"
   ]
  },
  {
   "cell_type": "code",
   "execution_count": null,
   "metadata": {
    "collapsed": false
   },
   "outputs": [],
   "source": [
    "# save structure as SWC. \n",
    "# Conversion from NMF to SWC by loading NMF into btmorph and exporting as SWC\n",
    "neuron_ntf.tree.write_SWC_tree_to_file(\"tests/v_e_moto1_exported_from_nmf.swc\")"
   ]
  },
  {
   "cell_type": "code",
   "execution_count": null,
   "metadata": {
    "collapsed": false
   },
   "outputs": [],
   "source": [
    "# check if the exported SWC is identical to the original\n",
    "n2 = btmorph2.NeuronMorphology(\"tests/v_e_moto1_exported_from_nmf.swc\")\n",
    "n2.plot_2D()\n",
    "n2.total_length()"
   ]
  },
  {
   "cell_type": "markdown",
   "metadata": {},
   "source": [
    "## Generate time-lapse and subcellular examples"
   ]
  },
  {
   "cell_type": "code",
   "execution_count": null,
   "metadata": {
    "collapsed": false
   },
   "outputs": [],
   "source": [
    "%run examples/nmf_demonstration_for_specs.py"
   ]
  },
  {
   "cell_type": "code",
   "execution_count": null,
   "metadata": {
    "collapsed": false
   },
   "outputs": [],
   "source": [
    "# example B from figure in google doc. Final structure linked in /swc\n",
    "ex_B = btmorph2.NeuronMorphology(\"examples/example_B.nmf\")\n",
    "ex_B.plot_2D() "
   ]
  },
  {
   "cell_type": "code",
   "execution_count": null,
   "metadata": {
    "collapsed": false
   },
   "outputs": [],
   "source": [
    "ex_C = btmorph2.NeuronMorphology(\"examples/example_C.nmf\")\n",
    "ex_C.plot_2D()"
   ]
  },
  {
   "cell_type": "code",
   "execution_count": null,
   "metadata": {
    "collapsed": false
   },
   "outputs": [],
   "source": [
    "# create NMF representation of a static structure with static subcellular domains\n",
    "# this is the case when the second marker is also membrane bound marker\n",
    "c = btmorph2.NeuronMorphology(\"examples/example_static_subcell.nmf\")\n",
    "c.plot_2D()"
   ]
  },
  {
   "cell_type": "code",
   "execution_count": null,
   "metadata": {
    "collapsed": false
   },
   "outputs": [],
   "source": [
    "# create NMF representation of a static structure with dynamic subcellular domains\n",
    "d = btmorph2.NeuronMorphology(\"examples/example_dynamic_subcell.nmf\")\n",
    "d.plot_2D()"
   ]
  },
  {
   "cell_type": "code",
   "execution_count": null,
   "metadata": {
    "collapsed": true
   },
   "outputs": [],
   "source": []
  }
 ],
 "metadata": {
  "anaconda-cloud": {},
  "kernelspec": {
   "display_name": "Python [default]",
   "language": "python",
   "name": "python2"
  },
  "language_info": {
   "codemirror_mode": {
    "name": "ipython",
    "version": 2
   },
   "file_extension": ".py",
   "mimetype": "text/x-python",
   "name": "python",
   "nbconvert_exporter": "python",
   "pygments_lexer": "ipython2",
   "version": "2.7.9"
  }
 },
 "nbformat": 4,
 "nbformat_minor": 0
}
